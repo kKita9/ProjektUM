{
 "cells": [
  {
   "cell_type": "code",
   "execution_count": null,
   "outputs": [],
   "source": [
    "import pandas as pd\n",
    "import seaborn as sns\n",
    "import matplotlib.pyplot as plt\n",
    "from scipy.stats import pointbiserialr\n",
    "from scipy.stats import skew, kurtosis\n",
    "from sklearn import svm\n",
    "from sklearn.model_selection import train_test_split\n",
    "from sklearn.preprocessing import StandardScaler\n",
    "import warnings\n",
    "warnings.simplefilter(action='ignore', category=FutureWarning)\n",
    "# from sklearn.svm import SVC\n",
    "from sklearn.metrics import accuracy_score, recall_score, classification_report, confusion_matrix\n",
    "from imblearn.metrics import specificity_score\n",
    "\n"
   ],
   "metadata": {
    "collapsed": false
   },
   "id": "9404424975a23b43"
  },
  {
   "cell_type": "markdown",
   "source": [
    "Dane"
   ],
   "metadata": {
    "collapsed": false
   },
   "id": "7b45460842e3e6f6"
  },
  {
   "cell_type": "code",
   "execution_count": null,
   "outputs": [],
   "source": [
    "data = pd.read_csv('data/winequality-white.csv', delimiter=';')"
   ],
   "metadata": {
    "collapsed": false
   },
   "id": "f545c7a8ac56d20b"
  },
  {
   "cell_type": "code",
   "execution_count": null,
   "outputs": [],
   "source": [
    "types_temp = [i % 2 for i in range(len(data))]\n",
    "data['type'] = types_temp"
   ],
   "metadata": {
    "collapsed": false
   },
   "id": "51246b10112eb23e"
  },
  {
   "cell_type": "code",
   "execution_count": null,
   "outputs": [],
   "source": [
    "data.head()"
   ],
   "metadata": {
    "collapsed": false
   },
   "id": "5fcd7dc3b4ace0d8"
  },
  {
   "cell_type": "markdown",
   "source": [
    "OPIS I WSTEPNA ANALIZA DANYCH"
   ],
   "metadata": {
    "collapsed": false
   },
   "id": "3a704e9ab7fa956a"
  },
  {
   "cell_type": "markdown",
   "source": [
    "Typy danych w zbiorze"
   ],
   "metadata": {
    "collapsed": false
   },
   "id": "173b99434cb6b7d3"
  },
  {
   "cell_type": "code",
   "execution_count": null,
   "outputs": [],
   "source": [
    "data.dtypes"
   ],
   "metadata": {
    "collapsed": false
   },
   "id": "e2f37b1040effbfc"
  },
  {
   "cell_type": "markdown",
   "source": [
    "Rozmiar danych"
   ],
   "metadata": {
    "collapsed": false
   },
   "id": "c44fb6e98542d411"
  },
  {
   "cell_type": "code",
   "execution_count": null,
   "outputs": [],
   "source": [
    "data.shape"
   ],
   "metadata": {
    "collapsed": false
   },
   "id": "a4013b3e2f5f4226"
  },
  {
   "cell_type": "markdown",
   "source": [
    "Statystyki opisowe dla zmiennych liczbowych"
   ],
   "metadata": {
    "collapsed": false
   },
   "id": "71b4985222031bdf"
  },
  {
   "cell_type": "code",
   "execution_count": null,
   "outputs": [],
   "source": [
    "data_float_column = data.select_dtypes(include=[float]).columns\n",
    "data[data_float_column].describe()"
   ],
   "metadata": {
    "collapsed": false
   },
   "id": "b81e44541d471a62"
  },
  {
   "cell_type": "markdown",
   "source": [
    "Analiza Wpływu Zmiennych na Zmienną Prognozowaną (Y)\n"
   ],
   "metadata": {
    "collapsed": false
   },
   "id": "fa621cd6b8ecfc7a"
  },
  {
   "cell_type": "code",
   "execution_count": null,
   "outputs": [],
   "source": [
    "#heat mapa korelacji  ale nie wiem czy to dobra metoda\n",
    "plt.figure(figsize=(10,8))\n",
    "sns.heatmap(data.corr(), annot=True, fmt='.2f')\n",
    "plt.show()"
   ],
   "metadata": {
    "collapsed": false
   },
   "id": "49198eeccf645756"
  },
  {
   "cell_type": "code",
   "execution_count": null,
   "outputs": [],
   "source": [
    "# Przypuśćmy, że 'df' to twój DataFrame, a 'quality' to twoja zmienna binarna.\n",
    "# Przeiteruj przez wszystkie kolumny (oprócz 'quality') i oblicz korelację punktowo-biserialną.\n",
    "for column in data.columns.drop('quality'):\n",
    "    pbc = pointbiserialr(data[column], data['quality'])\n",
    "    print(f\"Korelacja punktowo-biserialna między {column} a quality: {pbc.correlation:.3f}, p-wartość: {pbc.pvalue:.4f}\")\n"
   ],
   "metadata": {
    "collapsed": false
   },
   "id": "3d24bf92ad0911bb"
  },
  {
   "cell_type": "markdown",
   "source": [
    "Ocena zbalansowania zbioru danych"
   ],
   "metadata": {
    "collapsed": false
   },
   "id": "8dd20bf4c299cba8"
  },
  {
   "cell_type": "code",
   "execution_count": null,
   "outputs": [],
   "source": [
    "#Histogram\n",
    "plt.figure(figsize=(8,4))\n",
    "sns.histplot(data['quality'], kde=True)\n",
    "plt.title('Histogram zmiennej quality')\n",
    "plt.show()"
   ],
   "metadata": {
    "collapsed": false
   },
   "id": "ac83078d4566c04a"
  },
  {
   "cell_type": "code",
   "execution_count": null,
   "outputs": [],
   "source": [
    "#Boxplot\n",
    "plt.figure(figsize=(6, 7))\n",
    "sns.boxplot(y=data['quality'])\n",
    "plt.title('Boxplot zmiennej quality')\n",
    "plt.show()"
   ],
   "metadata": {
    "collapsed": false
   },
   "id": "4ab945e3b6944559"
  },
  {
   "cell_type": "code",
   "execution_count": null,
   "outputs": [],
   "source": [
    "#Skośnosc i kurtoza\n",
    "print(f\"Skośność: \", skew(data['quality']))\n",
    "print(f'Kurtoza: ', kurtosis(data['quality']))"
   ],
   "metadata": {
    "collapsed": false
   },
   "id": "51edda1100a70f29"
  },
  {
   "cell_type": "markdown",
   "source": [
    "PRZYGOTOWANIE DANYCH"
   ],
   "metadata": {
    "collapsed": false
   },
   "id": "968648eb931e77f9"
  },
  {
   "cell_type": "markdown",
   "source": [
    "Wartosci brakujace"
   ],
   "metadata": {
    "collapsed": false
   },
   "id": "c383b6509b743ca9"
  },
  {
   "cell_type": "code",
   "execution_count": null,
   "outputs": [],
   "source": [
    "data.isna().sum()"
   ],
   "metadata": {
    "collapsed": false
   },
   "id": "f6fa367810d63e4a"
  },
  {
   "cell_type": "markdown",
   "source": [
    "Sprawdzenie wartosci odstajacych"
   ],
   "metadata": {
    "collapsed": false
   },
   "id": "45e5b0479a0afd51"
  },
  {
   "cell_type": "code",
   "execution_count": null,
   "outputs": [],
   "source": [
    "# fig, axs = plt.subplots(ncols=3, nrows = 3, figsize=(15,15))\n",
    "# \n",
    "# sns.boxplot(ax=axs[0][0], y=data['fixed acidity'])\n",
    "# axs[0][0].set_title('fixed acidity')\n",
    "# \n",
    "# sns.boxplot(ax=axs[1], y=data['volatile acidity'])\n",
    "# axs[1].set_title('volatile acidity')\n",
    "# \n",
    "# sns.boxplot(ax=axs[2], y=data['citric acid'])\n",
    "# axs[2].set_title('citric acid')\n",
    "# \n",
    "# sns.set_style(\"darkgrid\", {\"grid.color\": \".6\", \"grid.linestyle\": \":\"})\n",
    "# plt.tight_layout()\n",
    "# plt.show()"
   ],
   "metadata": {
    "collapsed": false
   },
   "id": "1119d067edd24d2a"
  },
  {
   "cell_type": "markdown",
   "source": [
    "PODZIAL DANYCH NA ZBIOR UCZACY I TESTOWY\n"
   ],
   "metadata": {
    "collapsed": false
   },
   "id": "20b6d0c9604ab89b"
  },
  {
   "cell_type": "code",
   "execution_count": null,
   "outputs": [],
   "source": [
    "X = data.drop('quality', axis=1)\n",
    "y = data['quality']"
   ],
   "metadata": {
    "collapsed": false
   },
   "id": "98bb75d638fcf873"
  },
  {
   "cell_type": "code",
   "execution_count": null,
   "outputs": [],
   "source": [
    "#podzial na zbior testowy i treningowy\n",
    "X_train, X_test, y_train, y_test = train_test_split(X, y, test_size=0.2, random_state=42)"
   ],
   "metadata": {
    "collapsed": false
   },
   "id": "bf9a23e4a205921e"
  },
  {
   "cell_type": "code",
   "execution_count": null,
   "outputs": [],
   "source": [
    "#kopia danych\n",
    "X_train_copy = X_train.copy()\n",
    "X_test_copy = X_test.copy()"
   ],
   "metadata": {
    "collapsed": false
   },
   "id": "c756406bf6392213"
  },
  {
   "cell_type": "markdown",
   "source": [
    "Statystyki opisowe dla zbiorow"
   ],
   "metadata": {
    "collapsed": false
   },
   "id": "28792af6d8b751b5"
  },
  {
   "cell_type": "code",
   "execution_count": null,
   "outputs": [],
   "source": [
    "X_train.describe()"
   ],
   "metadata": {
    "collapsed": false
   },
   "id": "53b672ecf1ab7b5f"
  },
  {
   "cell_type": "code",
   "execution_count": null,
   "outputs": [],
   "source": [
    "X_test.describe()\n"
   ],
   "metadata": {
    "collapsed": false
   },
   "id": "7e924307314816dc"
  },
  {
   "cell_type": "markdown",
   "source": [
    "ALGORYTM SVM"
   ],
   "metadata": {
    "collapsed": false
   },
   "id": "c069db213d7b7fa4"
  },
  {
   "cell_type": "markdown",
   "source": [
    "Standaryzacja zmiennych"
   ],
   "metadata": {
    "collapsed": false
   },
   "id": "5f6837a0d75427c4"
  },
  {
   "cell_type": "code",
   "execution_count": null,
   "outputs": [],
   "source": [
    "scaler = StandardScaler()\n",
    "X_train = scaler.fit_transform(X_train)\n",
    "X_test = scaler.transform(X_test)"
   ],
   "metadata": {
    "collapsed": false
   },
   "id": "d421a11abf5a13d3"
  },
  {
   "cell_type": "code",
   "execution_count": null,
   "outputs": [],
   "source": [
    "def svm_algorithm(kernel):\n",
    "    model = svm.SVC(kernel=kernel)\n",
    "    model.fit(X_train, y_train)\n",
    "    \n",
    "    y_pred_train = model.predict(X_train)\n",
    "    y_pred_test = model.predict(X_test)\n",
    "    \n",
    "    accuracy_train = accuracy_score(y_train, y_pred_train)\n",
    "    accuracy_test = accuracy_score(y_test, y_pred_test)\n",
    "    recall_train = recall_score(y_train, y_pred_train,  average=None)\n",
    "    recall_test = recall_score(y_test, y_pred_test, average=None)\n",
    "    specificity_train = specificity_score(y_train, y_pred_train)\n",
    "    specificity_test = specificity_score(y_test, y_pred_test)\n",
    "\n",
    "    measures = ['', 'Dokładność', 'Czułość', 'Specyficzność']    \n",
    "    print(f'Jądro: {kernel}')\n",
    "    print(f'{measures[0]: <10} {measures[1]: <15} {measures[2]: <20} {measures[3]: <25}')\n",
    "    print(f'Treningowy {round(accuracy_train, 3): <15} {round(recall_train, 3): <20} {round(specificity_train, 3): <25}')\n",
    "    print(f'Testowy    {round(accuracy_test, 3): <15} {round(recall_test, 3): <20} {round(specificity_test, 3): <25}')\n",
    "    print()\n",
    "\n",
    "    \n",
    "    "
   ],
   "metadata": {
    "collapsed": false
   },
   "id": "91254698eaa6d1bb"
  },
  {
   "cell_type": "code",
   "execution_count": null,
   "outputs": [],
   "source": [
    "svm_algorithm('rbf')"
   ],
   "metadata": {
    "collapsed": false
   },
   "id": "e9aef361bdc33b02"
  },
  {
   "cell_type": "code",
   "execution_count": null,
   "outputs": [],
   "source": [],
   "metadata": {
    "collapsed": false
   },
   "id": "86d38db0cf66c41"
  }
 ],
 "metadata": {
  "kernelspec": {
   "display_name": "Python 3",
   "language": "python",
   "name": "python3"
  },
  "language_info": {
   "codemirror_mode": {
    "name": "ipython",
    "version": 2
   },
   "file_extension": ".py",
   "mimetype": "text/x-python",
   "name": "python",
   "nbconvert_exporter": "python",
   "pygments_lexer": "ipython2",
   "version": "2.7.6"
  }
 },
 "nbformat": 4,
 "nbformat_minor": 5
}
