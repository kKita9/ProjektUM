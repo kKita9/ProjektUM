{
 "cells": [
  {
   "cell_type": "code",
   "execution_count": 1,
   "outputs": [],
   "source": [
    "import pandas as pd\n",
    "import seaborn as sns\n",
    "import matplotlib.pyplot as plt\n",
    "from scipy.stats import pointbiserialr\n",
    "from scipy.stats import skew, kurtosis\n",
    "from sklearn import svm\n",
    "from sklearn.model_selection import train_test_split\n",
    "from sklearn.preprocessing import StandardScaler\n",
    "import warnings\n",
    "warnings.simplefilter(action='ignore', category=FutureWarning)\n",
    "# from sklearn.svm import SVC\n",
    "from sklearn.metrics import accuracy_score, recall_score, classification_report, confusion_matrix\n",
    "from imblearn.metrics import specificity_score\n",
    "\n"
   ],
   "metadata": {
    "collapsed": false,
    "ExecuteTime": {
     "end_time": "2023-12-19T07:03:37.061642400Z",
     "start_time": "2023-12-19T07:03:36.542975600Z"
    }
   },
   "id": "9404424975a23b43"
  },
  {
   "cell_type": "markdown",
   "source": [
    "Wczytanie danych"
   ],
   "metadata": {
    "collapsed": false
   },
   "id": "7b45460842e3e6f6"
  },
  {
   "cell_type": "code",
   "execution_count": 2,
   "outputs": [],
   "source": [
    "r_wine = pd.read_csv('data/winequality-red.csv', sep=';')\n",
    "r_wine['type'] = 'red'\n",
    "w_wine = pd.read_csv('data/winequality-white.csv', sep=';')\n",
    "w_wine['type'] = 'white'"
   ],
   "metadata": {
    "collapsed": false,
    "ExecuteTime": {
     "end_time": "2023-12-19T07:03:44.236799300Z",
     "start_time": "2023-12-19T07:03:44.157548600Z"
    }
   },
   "id": "f545c7a8ac56d20b"
  },
  {
   "cell_type": "code",
   "execution_count": 3,
   "outputs": [
    {
     "data": {
      "text/plain": "      fixed acidity  volatile acidity  citric acid  residual sugar  chlorides  \\\n0               7.4              0.70         0.00             1.9      0.076   \n1               7.8              0.88         0.00             2.6      0.098   \n2               7.8              0.76         0.04             2.3      0.092   \n3              11.2              0.28         0.56             1.9      0.075   \n4               7.4              0.70         0.00             1.9      0.076   \n...             ...               ...          ...             ...        ...   \n6492            6.2              0.21         0.29             1.6      0.039   \n6493            6.6              0.32         0.36             8.0      0.047   \n6494            6.5              0.24         0.19             1.2      0.041   \n6495            5.5              0.29         0.30             1.1      0.022   \n6496            6.0              0.21         0.38             0.8      0.020   \n\n      free sulfur dioxide  total sulfur dioxide  density    pH  sulphates  \\\n0                    11.0                  34.0  0.99780  3.51       0.56   \n1                    25.0                  67.0  0.99680  3.20       0.68   \n2                    15.0                  54.0  0.99700  3.26       0.65   \n3                    17.0                  60.0  0.99800  3.16       0.58   \n4                    11.0                  34.0  0.99780  3.51       0.56   \n...                   ...                   ...      ...   ...        ...   \n6492                 24.0                  92.0  0.99114  3.27       0.50   \n6493                 57.0                 168.0  0.99490  3.15       0.46   \n6494                 30.0                 111.0  0.99254  2.99       0.46   \n6495                 20.0                 110.0  0.98869  3.34       0.38   \n6496                 22.0                  98.0  0.98941  3.26       0.32   \n\n      alcohol  quality   type  \n0         9.4        5    red  \n1         9.8        5    red  \n2         9.8        5    red  \n3         9.8        6    red  \n4         9.4        5    red  \n...       ...      ...    ...  \n6492     11.2        6  white  \n6493      9.6        5  white  \n6494      9.4        6  white  \n6495     12.8        7  white  \n6496     11.8        6  white  \n\n[6497 rows x 13 columns]",
      "text/html": "<div>\n<style scoped>\n    .dataframe tbody tr th:only-of-type {\n        vertical-align: middle;\n    }\n\n    .dataframe tbody tr th {\n        vertical-align: top;\n    }\n\n    .dataframe thead th {\n        text-align: right;\n    }\n</style>\n<table border=\"1\" class=\"dataframe\">\n  <thead>\n    <tr style=\"text-align: right;\">\n      <th></th>\n      <th>fixed acidity</th>\n      <th>volatile acidity</th>\n      <th>citric acid</th>\n      <th>residual sugar</th>\n      <th>chlorides</th>\n      <th>free sulfur dioxide</th>\n      <th>total sulfur dioxide</th>\n      <th>density</th>\n      <th>pH</th>\n      <th>sulphates</th>\n      <th>alcohol</th>\n      <th>quality</th>\n      <th>type</th>\n    </tr>\n  </thead>\n  <tbody>\n    <tr>\n      <th>0</th>\n      <td>7.4</td>\n      <td>0.70</td>\n      <td>0.00</td>\n      <td>1.9</td>\n      <td>0.076</td>\n      <td>11.0</td>\n      <td>34.0</td>\n      <td>0.99780</td>\n      <td>3.51</td>\n      <td>0.56</td>\n      <td>9.4</td>\n      <td>5</td>\n      <td>red</td>\n    </tr>\n    <tr>\n      <th>1</th>\n      <td>7.8</td>\n      <td>0.88</td>\n      <td>0.00</td>\n      <td>2.6</td>\n      <td>0.098</td>\n      <td>25.0</td>\n      <td>67.0</td>\n      <td>0.99680</td>\n      <td>3.20</td>\n      <td>0.68</td>\n      <td>9.8</td>\n      <td>5</td>\n      <td>red</td>\n    </tr>\n    <tr>\n      <th>2</th>\n      <td>7.8</td>\n      <td>0.76</td>\n      <td>0.04</td>\n      <td>2.3</td>\n      <td>0.092</td>\n      <td>15.0</td>\n      <td>54.0</td>\n      <td>0.99700</td>\n      <td>3.26</td>\n      <td>0.65</td>\n      <td>9.8</td>\n      <td>5</td>\n      <td>red</td>\n    </tr>\n    <tr>\n      <th>3</th>\n      <td>11.2</td>\n      <td>0.28</td>\n      <td>0.56</td>\n      <td>1.9</td>\n      <td>0.075</td>\n      <td>17.0</td>\n      <td>60.0</td>\n      <td>0.99800</td>\n      <td>3.16</td>\n      <td>0.58</td>\n      <td>9.8</td>\n      <td>6</td>\n      <td>red</td>\n    </tr>\n    <tr>\n      <th>4</th>\n      <td>7.4</td>\n      <td>0.70</td>\n      <td>0.00</td>\n      <td>1.9</td>\n      <td>0.076</td>\n      <td>11.0</td>\n      <td>34.0</td>\n      <td>0.99780</td>\n      <td>3.51</td>\n      <td>0.56</td>\n      <td>9.4</td>\n      <td>5</td>\n      <td>red</td>\n    </tr>\n    <tr>\n      <th>...</th>\n      <td>...</td>\n      <td>...</td>\n      <td>...</td>\n      <td>...</td>\n      <td>...</td>\n      <td>...</td>\n      <td>...</td>\n      <td>...</td>\n      <td>...</td>\n      <td>...</td>\n      <td>...</td>\n      <td>...</td>\n      <td>...</td>\n    </tr>\n    <tr>\n      <th>6492</th>\n      <td>6.2</td>\n      <td>0.21</td>\n      <td>0.29</td>\n      <td>1.6</td>\n      <td>0.039</td>\n      <td>24.0</td>\n      <td>92.0</td>\n      <td>0.99114</td>\n      <td>3.27</td>\n      <td>0.50</td>\n      <td>11.2</td>\n      <td>6</td>\n      <td>white</td>\n    </tr>\n    <tr>\n      <th>6493</th>\n      <td>6.6</td>\n      <td>0.32</td>\n      <td>0.36</td>\n      <td>8.0</td>\n      <td>0.047</td>\n      <td>57.0</td>\n      <td>168.0</td>\n      <td>0.99490</td>\n      <td>3.15</td>\n      <td>0.46</td>\n      <td>9.6</td>\n      <td>5</td>\n      <td>white</td>\n    </tr>\n    <tr>\n      <th>6494</th>\n      <td>6.5</td>\n      <td>0.24</td>\n      <td>0.19</td>\n      <td>1.2</td>\n      <td>0.041</td>\n      <td>30.0</td>\n      <td>111.0</td>\n      <td>0.99254</td>\n      <td>2.99</td>\n      <td>0.46</td>\n      <td>9.4</td>\n      <td>6</td>\n      <td>white</td>\n    </tr>\n    <tr>\n      <th>6495</th>\n      <td>5.5</td>\n      <td>0.29</td>\n      <td>0.30</td>\n      <td>1.1</td>\n      <td>0.022</td>\n      <td>20.0</td>\n      <td>110.0</td>\n      <td>0.98869</td>\n      <td>3.34</td>\n      <td>0.38</td>\n      <td>12.8</td>\n      <td>7</td>\n      <td>white</td>\n    </tr>\n    <tr>\n      <th>6496</th>\n      <td>6.0</td>\n      <td>0.21</td>\n      <td>0.38</td>\n      <td>0.8</td>\n      <td>0.020</td>\n      <td>22.0</td>\n      <td>98.0</td>\n      <td>0.98941</td>\n      <td>3.26</td>\n      <td>0.32</td>\n      <td>11.8</td>\n      <td>6</td>\n      <td>white</td>\n    </tr>\n  </tbody>\n</table>\n<p>6497 rows × 13 columns</p>\n</div>"
     },
     "execution_count": 3,
     "metadata": {},
     "output_type": "execute_result"
    }
   ],
   "source": [
    "data = pd.concat([r_wine, w_wine], ignore_index=True)\n",
    "data"
   ],
   "metadata": {
    "collapsed": false,
    "ExecuteTime": {
     "end_time": "2023-12-19T07:03:45.037376200Z",
     "start_time": "2023-12-19T07:03:44.980195100Z"
    }
   },
   "id": "51246b10112eb23e"
  },
  {
   "cell_type": "code",
   "execution_count": 4,
   "outputs": [
    {
     "data": {
      "text/plain": "quality\n6    2836\n5    2138\n7    1079\n4     216\n8     193\n3      30\n9       5\nName: count, dtype: int64"
     },
     "execution_count": 4,
     "metadata": {},
     "output_type": "execute_result"
    }
   ],
   "source": [
    "data['quality'].value_counts()"
   ],
   "metadata": {
    "collapsed": false,
    "ExecuteTime": {
     "end_time": "2023-12-19T07:04:03.502984500Z",
     "start_time": "2023-12-19T07:04:03.487657200Z"
    }
   },
   "id": "5fcd7dc3b4ace0d8"
  },
  {
   "cell_type": "markdown",
   "source": [
    "OPIS I WSTEPNA ANALIZA DANYCH"
   ],
   "metadata": {
    "collapsed": false
   },
   "id": "3a704e9ab7fa956a"
  },
  {
   "cell_type": "markdown",
   "source": [
    "Typy danych w zbiorze"
   ],
   "metadata": {
    "collapsed": false
   },
   "id": "173b99434cb6b7d3"
  },
  {
   "cell_type": "code",
   "execution_count": 5,
   "outputs": [
    {
     "data": {
      "text/plain": "fixed acidity           float64\nvolatile acidity        float64\ncitric acid             float64\nresidual sugar          float64\nchlorides               float64\nfree sulfur dioxide     float64\ntotal sulfur dioxide    float64\ndensity                 float64\npH                      float64\nsulphates               float64\nalcohol                 float64\nquality                   int64\ntype                     object\ndtype: object"
     },
     "execution_count": 5,
     "metadata": {},
     "output_type": "execute_result"
    }
   ],
   "source": [
    "data.dtypes"
   ],
   "metadata": {
    "collapsed": false,
    "ExecuteTime": {
     "end_time": "2023-12-19T07:04:41.710487200Z",
     "start_time": "2023-12-19T07:04:41.662500200Z"
    }
   },
   "id": "e2f37b1040effbfc"
  },
  {
   "cell_type": "markdown",
   "source": [
    "Rozmiar danych"
   ],
   "metadata": {
    "collapsed": false
   },
   "id": "c44fb6e98542d411"
  },
  {
   "cell_type": "code",
   "execution_count": 6,
   "outputs": [
    {
     "data": {
      "text/plain": "(6497, 13)"
     },
     "execution_count": 6,
     "metadata": {},
     "output_type": "execute_result"
    }
   ],
   "source": [
    "data.shape"
   ],
   "metadata": {
    "collapsed": false,
    "ExecuteTime": {
     "end_time": "2023-12-19T07:04:43.017958Z",
     "start_time": "2023-12-19T07:04:42.997354Z"
    }
   },
   "id": "a4013b3e2f5f4226"
  },
  {
   "cell_type": "markdown",
   "source": [
    "Statystyki opisowe dla zmiennych liczbowych"
   ],
   "metadata": {
    "collapsed": false
   },
   "id": "71b4985222031bdf"
  },
  {
   "cell_type": "code",
   "execution_count": 7,
   "outputs": [
    {
     "data": {
      "text/plain": "       fixed acidity  volatile acidity  citric acid  residual sugar  \\\ncount    6497.000000       6497.000000  6497.000000     6497.000000   \nmean        7.215307          0.339666     0.318633        5.443235   \nstd         1.296434          0.164636     0.145318        4.757804   \nmin         3.800000          0.080000     0.000000        0.600000   \n25%         6.400000          0.230000     0.250000        1.800000   \n50%         7.000000          0.290000     0.310000        3.000000   \n75%         7.700000          0.400000     0.390000        8.100000   \nmax        15.900000          1.580000     1.660000       65.800000   \n\n         chlorides  free sulfur dioxide  total sulfur dioxide      density  \\\ncount  6497.000000          6497.000000           6497.000000  6497.000000   \nmean      0.056034            30.525319            115.744574     0.994697   \nstd       0.035034            17.749400             56.521855     0.002999   \nmin       0.009000             1.000000              6.000000     0.987110   \n25%       0.038000            17.000000             77.000000     0.992340   \n50%       0.047000            29.000000            118.000000     0.994890   \n75%       0.065000            41.000000            156.000000     0.996990   \nmax       0.611000           289.000000            440.000000     1.038980   \n\n                pH    sulphates      alcohol  \ncount  6497.000000  6497.000000  6497.000000  \nmean      3.218501     0.531268    10.491801  \nstd       0.160787     0.148806     1.192712  \nmin       2.720000     0.220000     8.000000  \n25%       3.110000     0.430000     9.500000  \n50%       3.210000     0.510000    10.300000  \n75%       3.320000     0.600000    11.300000  \nmax       4.010000     2.000000    14.900000  ",
      "text/html": "<div>\n<style scoped>\n    .dataframe tbody tr th:only-of-type {\n        vertical-align: middle;\n    }\n\n    .dataframe tbody tr th {\n        vertical-align: top;\n    }\n\n    .dataframe thead th {\n        text-align: right;\n    }\n</style>\n<table border=\"1\" class=\"dataframe\">\n  <thead>\n    <tr style=\"text-align: right;\">\n      <th></th>\n      <th>fixed acidity</th>\n      <th>volatile acidity</th>\n      <th>citric acid</th>\n      <th>residual sugar</th>\n      <th>chlorides</th>\n      <th>free sulfur dioxide</th>\n      <th>total sulfur dioxide</th>\n      <th>density</th>\n      <th>pH</th>\n      <th>sulphates</th>\n      <th>alcohol</th>\n    </tr>\n  </thead>\n  <tbody>\n    <tr>\n      <th>count</th>\n      <td>6497.000000</td>\n      <td>6497.000000</td>\n      <td>6497.000000</td>\n      <td>6497.000000</td>\n      <td>6497.000000</td>\n      <td>6497.000000</td>\n      <td>6497.000000</td>\n      <td>6497.000000</td>\n      <td>6497.000000</td>\n      <td>6497.000000</td>\n      <td>6497.000000</td>\n    </tr>\n    <tr>\n      <th>mean</th>\n      <td>7.215307</td>\n      <td>0.339666</td>\n      <td>0.318633</td>\n      <td>5.443235</td>\n      <td>0.056034</td>\n      <td>30.525319</td>\n      <td>115.744574</td>\n      <td>0.994697</td>\n      <td>3.218501</td>\n      <td>0.531268</td>\n      <td>10.491801</td>\n    </tr>\n    <tr>\n      <th>std</th>\n      <td>1.296434</td>\n      <td>0.164636</td>\n      <td>0.145318</td>\n      <td>4.757804</td>\n      <td>0.035034</td>\n      <td>17.749400</td>\n      <td>56.521855</td>\n      <td>0.002999</td>\n      <td>0.160787</td>\n      <td>0.148806</td>\n      <td>1.192712</td>\n    </tr>\n    <tr>\n      <th>min</th>\n      <td>3.800000</td>\n      <td>0.080000</td>\n      <td>0.000000</td>\n      <td>0.600000</td>\n      <td>0.009000</td>\n      <td>1.000000</td>\n      <td>6.000000</td>\n      <td>0.987110</td>\n      <td>2.720000</td>\n      <td>0.220000</td>\n      <td>8.000000</td>\n    </tr>\n    <tr>\n      <th>25%</th>\n      <td>6.400000</td>\n      <td>0.230000</td>\n      <td>0.250000</td>\n      <td>1.800000</td>\n      <td>0.038000</td>\n      <td>17.000000</td>\n      <td>77.000000</td>\n      <td>0.992340</td>\n      <td>3.110000</td>\n      <td>0.430000</td>\n      <td>9.500000</td>\n    </tr>\n    <tr>\n      <th>50%</th>\n      <td>7.000000</td>\n      <td>0.290000</td>\n      <td>0.310000</td>\n      <td>3.000000</td>\n      <td>0.047000</td>\n      <td>29.000000</td>\n      <td>118.000000</td>\n      <td>0.994890</td>\n      <td>3.210000</td>\n      <td>0.510000</td>\n      <td>10.300000</td>\n    </tr>\n    <tr>\n      <th>75%</th>\n      <td>7.700000</td>\n      <td>0.400000</td>\n      <td>0.390000</td>\n      <td>8.100000</td>\n      <td>0.065000</td>\n      <td>41.000000</td>\n      <td>156.000000</td>\n      <td>0.996990</td>\n      <td>3.320000</td>\n      <td>0.600000</td>\n      <td>11.300000</td>\n    </tr>\n    <tr>\n      <th>max</th>\n      <td>15.900000</td>\n      <td>1.580000</td>\n      <td>1.660000</td>\n      <td>65.800000</td>\n      <td>0.611000</td>\n      <td>289.000000</td>\n      <td>440.000000</td>\n      <td>1.038980</td>\n      <td>4.010000</td>\n      <td>2.000000</td>\n      <td>14.900000</td>\n    </tr>\n  </tbody>\n</table>\n</div>"
     },
     "execution_count": 7,
     "metadata": {},
     "output_type": "execute_result"
    }
   ],
   "source": [
    "data_float_column = data.select_dtypes(include=[float]).columns\n",
    "data[data_float_column].describe()"
   ],
   "metadata": {
    "collapsed": false,
    "ExecuteTime": {
     "end_time": "2023-12-19T07:04:44.659314500Z",
     "start_time": "2023-12-19T07:04:44.593238600Z"
    }
   },
   "id": "b81e44541d471a62"
  },
  {
   "cell_type": "code",
   "execution_count": null,
   "outputs": [],
   "source": [
    "sns.countplot(x='quality', data=data)"
   ],
   "metadata": {
    "collapsed": false
   },
   "id": "b0f5ed91dbc87f9b"
  },
  {
   "cell_type": "markdown",
   "source": [
    "Analiza Wpływu Zmiennych na Zmienną Prognozowaną (Y)\n"
   ],
   "metadata": {
    "collapsed": false
   },
   "id": "fa621cd6b8ecfc7a"
  },
  {
   "cell_type": "code",
   "execution_count": null,
   "outputs": [],
   "source": [
    "#heat mapa korelacji  ale nie wiem czy to dobra metoda\n",
    "plt.figure(figsize=(10,8))\n",
    "sns.heatmap(data.corr(), annot=True, fmt='.2f')\n",
    "plt.show()"
   ],
   "metadata": {
    "collapsed": false
   },
   "id": "49198eeccf645756"
  },
  {
   "cell_type": "code",
   "execution_count": null,
   "outputs": [],
   "source": [
    "# Przypuśćmy, że 'df' to twój DataFrame, a 'quality' to twoja zmienna binarna.\n",
    "# Przeiteruj przez wszystkie kolumny (oprócz 'quality') i oblicz korelację punktowo-biserialną.\n",
    "for column in data.columns.drop('quality'):\n",
    "    pbc = pointbiserialr(data[column], data['quality'])\n",
    "    print(f\"Korelacja punktowo-biserialna między {column} a quality: {pbc.correlation:.3f}, p-wartość: {pbc.pvalue:.4f}\")\n"
   ],
   "metadata": {
    "collapsed": false
   },
   "id": "3d24bf92ad0911bb"
  },
  {
   "cell_type": "markdown",
   "source": [
    "Ocena zbalansowania zbioru danych"
   ],
   "metadata": {
    "collapsed": false
   },
   "id": "8dd20bf4c299cba8"
  },
  {
   "cell_type": "code",
   "execution_count": null,
   "outputs": [],
   "source": [
    "#Histogram\n",
    "plt.figure(figsize=(8,4))\n",
    "sns.histplot(data['quality'], kde=True)\n",
    "plt.title('Histogram zmiennej quality')\n",
    "plt.show()"
   ],
   "metadata": {
    "collapsed": false
   },
   "id": "ac83078d4566c04a"
  },
  {
   "cell_type": "code",
   "execution_count": null,
   "outputs": [],
   "source": [
    "#Boxplot\n",
    "plt.figure(figsize=(6, 7))\n",
    "sns.boxplot(y=data['quality'])\n",
    "plt.title('Boxplot zmiennej quality')\n",
    "plt.show()"
   ],
   "metadata": {
    "collapsed": false
   },
   "id": "4ab945e3b6944559"
  },
  {
   "cell_type": "code",
   "execution_count": null,
   "outputs": [],
   "source": [
    "#Skośnosc i kurtoza\n",
    "print(f\"Skośność: \", skew(data['quality']))\n",
    "print(f'Kurtoza: ', kurtosis(data['quality']))"
   ],
   "metadata": {
    "collapsed": false
   },
   "id": "51edda1100a70f29"
  },
  {
   "cell_type": "markdown",
   "source": [
    "PRZYGOTOWANIE DANYCH"
   ],
   "metadata": {
    "collapsed": false
   },
   "id": "968648eb931e77f9"
  },
  {
   "cell_type": "markdown",
   "source": [
    "Wartosci brakujace"
   ],
   "metadata": {
    "collapsed": false
   },
   "id": "c383b6509b743ca9"
  },
  {
   "cell_type": "code",
   "execution_count": null,
   "outputs": [],
   "source": [
    "data.isna().sum()"
   ],
   "metadata": {
    "collapsed": false
   },
   "id": "f6fa367810d63e4a"
  },
  {
   "cell_type": "markdown",
   "source": [
    "Sprawdzenie wartosci odstajacych"
   ],
   "metadata": {
    "collapsed": false
   },
   "id": "45e5b0479a0afd51"
  },
  {
   "cell_type": "code",
   "execution_count": null,
   "outputs": [],
   "source": [
    "# fig, axs = plt.subplots(ncols=3, nrows = 3, figsize=(15,15))\n",
    "# \n",
    "# sns.boxplot(ax=axs[0][0], y=data['fixed acidity'])\n",
    "# axs[0][0].set_title('fixed acidity')\n",
    "# \n",
    "# sns.boxplot(ax=axs[1], y=data['volatile acidity'])\n",
    "# axs[1].set_title('volatile acidity')\n",
    "# \n",
    "# sns.boxplot(ax=axs[2], y=data['citric acid'])\n",
    "# axs[2].set_title('citric acid')\n",
    "# \n",
    "# sns.set_style(\"darkgrid\", {\"grid.color\": \".6\", \"grid.linestyle\": \":\"})\n",
    "# plt.tight_layout()\n",
    "# plt.show()"
   ],
   "metadata": {
    "collapsed": false
   },
   "id": "1119d067edd24d2a"
  },
  {
   "cell_type": "markdown",
   "source": [
    "PODZIAL DANYCH NA ZBIOR UCZACY I TESTOWY\n"
   ],
   "metadata": {
    "collapsed": false
   },
   "id": "20b6d0c9604ab89b"
  },
  {
   "cell_type": "code",
   "execution_count": null,
   "outputs": [],
   "source": [
    "X = data.drop('quality', axis=1)\n",
    "y = data['quality']"
   ],
   "metadata": {
    "collapsed": false
   },
   "id": "98bb75d638fcf873"
  },
  {
   "cell_type": "code",
   "execution_count": null,
   "outputs": [],
   "source": [
    "#podzial na zbior testowy i treningowy\n",
    "X_train, X_test, y_train, y_test = train_test_split(X, y, test_size=0.2, random_state=42)"
   ],
   "metadata": {
    "collapsed": false
   },
   "id": "bf9a23e4a205921e"
  },
  {
   "cell_type": "code",
   "execution_count": null,
   "outputs": [],
   "source": [
    "#kopia danych\n",
    "X_train_copy = X_train.copy()\n",
    "X_test_copy = X_test.copy()"
   ],
   "metadata": {
    "collapsed": false
   },
   "id": "c756406bf6392213"
  },
  {
   "cell_type": "markdown",
   "source": [
    "Statystyki opisowe dla zbiorow"
   ],
   "metadata": {
    "collapsed": false
   },
   "id": "28792af6d8b751b5"
  },
  {
   "cell_type": "code",
   "execution_count": null,
   "outputs": [],
   "source": [
    "X_train.describe()"
   ],
   "metadata": {
    "collapsed": false
   },
   "id": "53b672ecf1ab7b5f"
  },
  {
   "cell_type": "code",
   "execution_count": null,
   "outputs": [],
   "source": [
    "X_test.describe()\n"
   ],
   "metadata": {
    "collapsed": false
   },
   "id": "7e924307314816dc"
  },
  {
   "cell_type": "markdown",
   "source": [
    "ALGORYTM SVM"
   ],
   "metadata": {
    "collapsed": false
   },
   "id": "c069db213d7b7fa4"
  },
  {
   "cell_type": "markdown",
   "source": [
    "Standaryzacja zmiennych"
   ],
   "metadata": {
    "collapsed": false
   },
   "id": "5f6837a0d75427c4"
  },
  {
   "cell_type": "code",
   "execution_count": null,
   "outputs": [],
   "source": [
    "scaler = StandardScaler()\n",
    "X_train = scaler.fit_transform(X_train)\n",
    "X_test = scaler.transform(X_test)"
   ],
   "metadata": {
    "collapsed": false
   },
   "id": "d421a11abf5a13d3"
  },
  {
   "cell_type": "code",
   "execution_count": null,
   "outputs": [],
   "source": [
    "def svm_algorithm(kernel):\n",
    "    model = svm.SVC(kernel=kernel)\n",
    "    model.fit(X_train, y_train)\n",
    "    \n",
    "    y_pred_train = model.predict(X_train)\n",
    "    y_pred_test = model.predict(X_test)\n",
    "    \n",
    "    accuracy_train = accuracy_score(y_train, y_pred_train)\n",
    "    accuracy_test = accuracy_score(y_test, y_pred_test)\n",
    "    recall_train = recall_score(y_train, y_pred_train,  average=None)\n",
    "    recall_test = recall_score(y_test, y_pred_test, average=None)\n",
    "    specificity_train = specificity_score(y_train, y_pred_train)\n",
    "    specificity_test = specificity_score(y_test, y_pred_test)\n",
    "\n",
    "    measures = ['', 'Dokładność', 'Czułość', 'Specyficzność']    \n",
    "    print(f'Jądro: {kernel}')\n",
    "    print(f'{measures[0]: <10} {measures[1]: <15} {measures[2]: <20} {measures[3]: <25}')\n",
    "    print(f'Treningowy {round(accuracy_train, 3): <15} {round(recall_train, 3): <20} {round(specificity_train, 3): <25}')\n",
    "    print(f'Testowy    {round(accuracy_test, 3): <15} {round(recall_test, 3): <20} {round(specificity_test, 3): <25}')\n",
    "    print()\n",
    "\n",
    "    \n",
    "    "
   ],
   "metadata": {
    "collapsed": false
   },
   "id": "91254698eaa6d1bb"
  },
  {
   "cell_type": "code",
   "execution_count": null,
   "outputs": [],
   "source": [
    "svm_algorithm('rbf')"
   ],
   "metadata": {
    "collapsed": false
   },
   "id": "e9aef361bdc33b02"
  },
  {
   "cell_type": "code",
   "execution_count": null,
   "outputs": [],
   "source": [],
   "metadata": {
    "collapsed": false
   },
   "id": "86d38db0cf66c41"
  }
 ],
 "metadata": {
  "kernelspec": {
   "display_name": "Python 3",
   "language": "python",
   "name": "python3"
  },
  "language_info": {
   "codemirror_mode": {
    "name": "ipython",
    "version": 2
   },
   "file_extension": ".py",
   "mimetype": "text/x-python",
   "name": "python",
   "nbconvert_exporter": "python",
   "pygments_lexer": "ipython2",
   "version": "2.7.6"
  }
 },
 "nbformat": 4,
 "nbformat_minor": 5
}
